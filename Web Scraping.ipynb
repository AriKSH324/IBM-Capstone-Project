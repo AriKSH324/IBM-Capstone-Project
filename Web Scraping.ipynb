{
    "cells": [
        {
            "metadata": {},
            "cell_type": "markdown",
            "source": "<center>\n    <img src=\"https://gitlab.com/ibm/skills-network/courses/placeholder101/-/raw/master/labs/module%201/images/IDSNlogo.png\" width=\"300\" alt=\"cognitiveclass.ai logo\"  />\n</center>\n"
        },
        {
            "metadata": {},
            "cell_type": "markdown",
            "source": "# **Web Scraping Lab**\n"
        },
        {
            "metadata": {},
            "cell_type": "markdown",
            "source": "Estimated time needed: **30** minutes\n"
        },
        {
            "metadata": {},
            "cell_type": "markdown",
            "source": "## Objectives\n"
        },
        {
            "metadata": {},
            "cell_type": "markdown",
            "source": "After completing this lab you will be able to:\n"
        },
        {
            "metadata": {},
            "cell_type": "markdown",
            "source": "-   Download a webpage using requests module\n-   Scrape all links from a web page\n-   Scrape all image urls from a web page\n-   Scrape data from html tables\n"
        },
        {
            "metadata": {},
            "cell_type": "markdown",
            "source": "## Scrape [www.ibm.com](http://www.ibm.com?cm_mmc=Email_Newsletter-_-Developer_Ed%2BTech-_-WW_WW-_-SkillsNetwork-Courses-IBM-DA0321EN-SkillsNetwork-21426264&cm_mmca1=000026UJ&cm_mmca2=10006555&cm_mmca3=M12345678&cvosrc=email.Newsletter.M12345678&cvo_campaign=000026UJ&cm_mmc=Email_Newsletter-_-Developer_Ed%2BTech-_-WW_WW-_-SkillsNetwork-Courses-IBM-DA0321EN-SkillsNetwork-21426264&cm_mmca1=000026UJ&cm_mmca2=10006555&cm_mmca3=M12345678&cvosrc=email.Newsletter.M12345678&cvo_campaign=000026UJ)\n"
        },
        {
            "metadata": {},
            "cell_type": "markdown",
            "source": "Import the required modules and functions\n"
        },
        {
            "metadata": {},
            "cell_type": "code",
            "source": "from bs4 import BeautifulSoup # this module helps in web scrapping.\nimport requests  # this module helps us to download a web page",
            "execution_count": 1,
            "outputs": []
        },
        {
            "metadata": {},
            "cell_type": "markdown",
            "source": "Download the contents of the web page\n"
        },
        {
            "metadata": {},
            "cell_type": "code",
            "source": "url = \"http://www.ibm.com\"",
            "execution_count": 2,
            "outputs": []
        },
        {
            "metadata": {},
            "cell_type": "code",
            "source": "# get the contents of the webpage in text format and store in a variable called data\ndata  = requests.get(url).text ",
            "execution_count": 3,
            "outputs": []
        },
        {
            "metadata": {},
            "cell_type": "markdown",
            "source": "Create a soup object using the class BeautifulSoup\n"
        },
        {
            "metadata": {},
            "cell_type": "code",
            "source": "soup = BeautifulSoup(data,\"html5lib\")  # create a soup object using the variable 'data'",
            "execution_count": 4,
            "outputs": []
        },
        {
            "metadata": {},
            "cell_type": "markdown",
            "source": "Scrape all links\n"
        },
        {
            "metadata": {},
            "cell_type": "code",
            "source": "for link in soup.find_all('a'):  # in html anchor/link is represented by the tag <a>\n    print(link.get('href'))",
            "execution_count": 5,
            "outputs": [
                {
                    "output_type": "stream",
                    "text": "https://www.ibm.com/jp/ja\nhttps://www.ibm.com/sitemap/jp/ja\n/jp-ja/node/2810236\nhttps://1.dam.s81c.com/public/content/dam/worldwide-content/homepage/ul/g/b5/46/ibm-storage-20210208.jpg\nhttps://1.dam.s81c.com/public/content/dam/worldwide-content/homepage/ul/g/dc/09/ibm-storage-20210208-mobile.jpg\nhttps://www.ibm.com/blogs/systems/jp-ja/storage-made-simple-for-all/?lnk=jphpv18l1&lnk2=learn\n/taxonomy/term/85416\n/jp-ja/node/1706856\nhttps://www-03.ibm.com/press/jp/ja/pressrelease/55860.wss?link=jphpv18i1&link1=fab\n/taxonomy/term/85416\n/jp-ja/node/1706851\n/jp-ja/node/2808250\n/jp-ja/node/2801853\n/jp-ja/node/2810238\n/jp-ja/node/2808252\n/taxonomy/term/85416\n/jp-ja/node/1706821\n/taxonomy/term/85416\nhttps://www.ibm.com/jp-ja/employment/?link=jphpv18em1&link1=fab\n/jp-ja/node/1706816\nhttps://www.ibm.com/jp-ja/products/trials?lnk=STW_JP_HPT_C1_TL&lnk2=trial_THP&psrc=none&pexp=def\n/jp-ja/node/2720828\n/jp-ja/node/2720830\n/jp-ja/node/2720832\n/jp-ja/node/2720834\n/taxonomy/term/85416\n/jp-ja/node/1706866\n/jp-ja/node/1706861\n/taxonomy/term/85416\nhttps://www.ibm.com/jp-ja/products?link=jphpv18p1&lnk2=trial_PHP&psrc=none&pexp=def\nhttps://www.ibm.com/blogs/systems/jp-ja/storage-made-simple-for-all/?lnk=jphpv18l1&lnk2=learn\nhttps://www.ibm.com/blogs/systems/jp-ja/storage-made-simple-for-all/?lnk=jphpv18l1&lnk2=learn\nhttps://www.ibm.com/jp-ja/employment/campus/session5/?lnk=jphpv18f1&lnk2=learn\nhttps://www.ibm.com/jp-ja/cloud/hybrid?lnk=jphpv18f2&lnk2=learn\nhttps://www.ibm.com/jp-ja/case-studies/sumitomomitsuitrustbank?lnk=jphpv18f3&lnk2=learn\nhttps://www.ibm.com/jp-ja/events/x-online?lnk=jphpv18f4&lnk2=learn\nhttps://www.ibm.com/search?lang=ja&amp;cc=jp&amp;q=\nhttps://www.ibm.com/jp-ja/products?link=jphpv18p1&lnk2=trial_PHP&psrc=none&pexp=def\nhttps://www.ibm.com/jp-ja/products?link=jphpv18p1&lnk2=trial_PHP&psrc=none&pexp=def\n//www.ibm.com/jp-ja/products/category/technology/IT-infrastructure\n//www.ibm.com/jp-ja/products/category/technology/cloud-computing\n//www.ibm.com/jp-ja/products/category/technology/blockchain\n//www.ibm.com/jp-ja/products/category/technology/IT-management\n//www.ibm.com/jp-ja/products/category/technology/security\n//www.ibm.com/jp-ja/products/category/technology/mobile-technology\n//www.ibm.com/jp-ja/products/category/technology/analytics\n//www.ibm.com/jp-ja/products/category/technology/software-development\n//www.ibm.com/jp-ja/products/category/technology/cognitive-computing-and-AI\n//www.ibm.com/jp-ja/products/category/technology/IT-infrastructure\n//www.ibm.com/jp-ja/products/category/technology/cloud-computing\n//www.ibm.com/jp-ja/products/category/technology/blockchain\n//www.ibm.com/jp-ja/products/category/technology/IT-management\n//www.ibm.com/jp-ja/products/category/technology/security\n//www.ibm.com/jp-ja/products/category/technology/mobile-technology\n//www.ibm.com/jp-ja/products/category/technology/analytics\n//www.ibm.com/jp-ja/products/category/technology/software-development\n//www.ibm.com/jp-ja/products/category/technology/cognitive-computing-and-AI\n//www.ibm.com/jp-ja/products/category/business/commerce\n//www.ibm.com/jp-ja/products/category/business/supply-chain-management\n//www.ibm.com/jp-ja/products/category/business/human-resources\n//www.ibm.com/jp-ja/products/category/business/collaboration\n//www.ibm.com/jp-ja/products/category/business/business-operations\n//www.ibm.com/jp-ja/products/category/business/finance\n//www.ibm.com/jp-ja/products/category/business/content-management\n//www.ibm.com/jp-ja/products/category/business/marketing\n//www.ibm.com/jp-ja/products/category/business/customer-service-and-CRM\nhttps://www.ibm.com/cloud/go-hybrid/jp-ja/\nhttps://www.ibm.com/cloud/go-hybrid/jp-ja/\nhttps://www.ibm.com/cloud/go-hybrid/jp-ja/\n##\nhttps://www.ibm.com/cloud/go-hybrid/jp-ja/\nhttps://www.ibm.com/cloud/go-hybrid/jp-ja/\n##\nhttps://www.ibm.com/cloud/go-hybrid/jp-ja/\nhttps://www.ibm.com/cloud/go-hybrid/jp-ja/\nhttps://www.ibm.com/cloud/go-hybrid/jp-ja/\nhttps://www.ibm.com/jp-ja/products/trials?lnk=STW_JP_HPT_C1_TL&lnk2=trial_THP&psrc=none&pexp=def\nhttps://www.ibm.com/jp-ja/products/cloud-pak-for-data?lnk=STW_JP_HPT_T1_BTN&lnk2=trial_CloudPakData&psrc=none&pexp=def\nhttps://www.ibm.com/jp-ja/cloud/db2-on-cloud?lnk=STW_JP_HPT_T2_BTN&lnk2=trial_Db2Cloud&psrc=none&pexp=def\nhttps://www.ibm.com/jp-ja/cloud/aspera?lnk=STW_JP_HPT_T3_BTN&lnk2=trial_AsperaCloud&psrc=none&pexp=def\nhttps://www.ibm.com/jp-ja/products/hosted-security-intelligence?lnk=STW_JP_HPT_T4_BTN&lnk2=trial_QRadarCloud&psrc=none&pexp=def\nhttps://www.ibm.com/jp-ja/employment/?link=jphpv18em1&link1=fab\nhttps://www.ibm.com/jp-ja/employment/?link=jphpv18em1&link1=fab\n#\n",
                    "name": "stdout"
                }
            ]
        },
        {
            "metadata": {},
            "cell_type": "markdown",
            "source": "Scrape  all images\n"
        },
        {
            "metadata": {},
            "cell_type": "code",
            "source": "for link in soup.find_all('img'):# in html image is represented by the tag <img>\n    print(link.get('src'))",
            "execution_count": 6,
            "outputs": [
                {
                    "output_type": "stream",
                    "text": "https://1.dam.s81c.com/public/content/dam/worldwide-content/homepage/ul/g/dc/09/ibm-storage-20210208-mobile.jpg\nhttps://1.dam.s81c.com/public/content/dam/worldwide-content/homepage/ul/g/2e/82/this-week-at-ibm-hr-20210208.jpg\nhttps://1.dam.s81c.com/public/content/dam/worldwide-content/homepage/ul/g/d2/20/this-week-at-ibm-hybridcloud-20210201.jpg\nhttps://1.dam.s81c.com/public/content/dam/worldwide-content/homepage/ul/g/04/cc/this-week-at-ibm-smtb-case-20210208.jpg\nhttps://1.dam.s81c.com/m/4a6f9a627c30eebf/original/this-week-at-ibm-x-online-20200608.jpg\nhttps://1.dam.s81c.com/public/content/dam/worldwide-content/homepage/ul/g/82/c3/this-week-at-ibm-gohybrid-20201214.jpg\nhttps://1.dam.s81c.com/public/content/dam/worldwide-content/homepage/ul/g/82/c3/this-week-at-ibm-gohybrid-20201214.jpg\nhttps://1.dam.s81c.com/m/2b3f6f2cfca08afa/original/Cloud-Pak-for-Data-22396-700x420.png\nhttps://1.dam.s81c.com/m/8fd74d16278b824/original/Db2-on-Cloud-22239-700x420.png\nhttps://1.dam.s81c.com/m/1416167d8fdce5da/original/Aspera-on-Cloud-19783-700x420.png\nhttps://1.dam.s81c.com/m/6441c02e23090051/original/QRadar-on-Cloud-21400-700x420.png\n",
                    "name": "stdout"
                }
            ]
        },
        {
            "metadata": {},
            "cell_type": "markdown",
            "source": "## Scrape data from html tables\n"
        },
        {
            "metadata": {},
            "cell_type": "code",
            "source": "#The below url contains a html table with data about colors and color codes.",
            "execution_count": null,
            "outputs": []
        },
        {
            "metadata": {},
            "cell_type": "code",
            "source": "url = \"https://cf-courses-data.s3.us.cloud-object-storage.appdomain.cloud/IBM-DA0321EN-SkillsNetwork/labs/datasets/HTMLColorCodes.html\"",
            "execution_count": 7,
            "outputs": []
        },
        {
            "metadata": {},
            "cell_type": "markdown",
            "source": "Before proceeding to scrape a web site, you need to examine the contents, and the way data is organized on the website. Open the above url in your browser and check how many rows and columns are there in the color table.\n"
        },
        {
            "metadata": {},
            "cell_type": "code",
            "source": "# get the contents of the webpage in text format and store in a variable called data\ndata  = requests.get(url).text",
            "execution_count": 8,
            "outputs": []
        },
        {
            "metadata": {},
            "cell_type": "code",
            "source": "soup = BeautifulSoup(data,\"html5lib\")",
            "execution_count": 9,
            "outputs": []
        },
        {
            "metadata": {},
            "cell_type": "code",
            "source": "#find a html table in the web page\ntable = soup.find('table') # in html table is represented by the tag <table>",
            "execution_count": 10,
            "outputs": []
        },
        {
            "metadata": {},
            "cell_type": "code",
            "source": "#Get all rows from the table\nfor row in table.find_all('tr'): # in html table row is represented by the tag <tr>\n    # Get all columns in each row.\n    cols = row.find_all('td') # in html a column is represented by the tag <td>\n    color_name = cols[2].getText() # store the value in column 3 as color_name\n    color_code = cols[3].getText() # store the value in column 4 as color_code\n    print(\"{}--->{}\".format(color_name,color_code))",
            "execution_count": 11,
            "outputs": [
                {
                    "output_type": "stream",
                    "text": "Color Name--->Hex Code#RRGGBB\nlightsalmon--->#FFA07A\nsalmon--->#FA8072\ndarksalmon--->#E9967A\nlightcoral--->#F08080\ncoral--->#FF7F50\ntomato--->#FF6347\norangered--->#FF4500\ngold--->#FFD700\norange--->#FFA500\ndarkorange--->#FF8C00\nlightyellow--->#FFFFE0\nlemonchiffon--->#FFFACD\npapayawhip--->#FFEFD5\nmoccasin--->#FFE4B5\npeachpuff--->#FFDAB9\npalegoldenrod--->#EEE8AA\nkhaki--->#F0E68C\ndarkkhaki--->#BDB76B\nyellow--->#FFFF00\nlawngreen--->#7CFC00\nchartreuse--->#7FFF00\nlimegreen--->#32CD32\nlime--->#00FF00\nforestgreen--->#228B22\ngreen--->#008000\npowderblue--->#B0E0E6\nlightblue--->#ADD8E6\nlightskyblue--->#87CEFA\nskyblue--->#87CEEB\ndeepskyblue--->#00BFFF\nlightsteelblue--->#B0C4DE\ndodgerblue--->#1E90FF\n",
                    "name": "stdout"
                }
            ]
        },
        {
            "metadata": {},
            "cell_type": "markdown",
            "source": "## Authors\n"
        },
        {
            "metadata": {},
            "cell_type": "markdown",
            "source": "Ramesh Sannareddy\n"
        },
        {
            "metadata": {},
            "cell_type": "markdown",
            "source": "### Other Contributors\n"
        },
        {
            "metadata": {},
            "cell_type": "markdown",
            "source": "Rav Ahuja\n"
        },
        {
            "metadata": {},
            "cell_type": "markdown",
            "source": "## Change Log\n"
        },
        {
            "metadata": {},
            "cell_type": "markdown",
            "source": "| Date (YYYY-MM-DD) | Version | Changed By        | Change Description                 |\n| ----------------- | ------- | ----------------- | ---------------------------------- |\n| 2020-10-17        | 0.1     | Ramesh Sannareddy | Created initial version of the lab |\n"
        },
        {
            "metadata": {},
            "cell_type": "markdown",
            "source": " Copyright \u00a9 2020 IBM Corporation. This notebook and its source code are released under the terms of the [MIT License](https://cognitiveclass.ai/mit-license?cm_mmc=Email_Newsletter-_-Developer_Ed%2BTech-_-WW_WW-_-SkillsNetwork-Courses-IBM-DA0321EN-SkillsNetwork-21426264&cm_mmca1=000026UJ&cm_mmca2=10006555&cm_mmca3=M12345678&cvosrc=email.Newsletter.M12345678&cvo_campaign=000026UJ&cm_mmc=Email_Newsletter-_-Developer_Ed%2BTech-_-WW_WW-_-SkillsNetwork-Courses-IBM-DA0321EN-SkillsNetwork-21426264&cm_mmca1=000026UJ&cm_mmca2=10006555&cm_mmca3=M12345678&cvosrc=email.Newsletter.M12345678&cvo_campaign=000026UJ&cm_mmc=Email_Newsletter-_-Developer_Ed%2BTech-_-WW_WW-_-SkillsNetwork-Courses-IBM-DA0321EN-SkillsNetwork-21426264&cm_mmca1=000026UJ&cm_mmca2=10006555&cm_mmca3=M12345678&cvosrc=email.Newsletter.M12345678&cvo_campaign=000026UJ&cm_mmc=Email_Newsletter-_-Developer_Ed%2BTech-_-WW_WW-_-SkillsNetwork-Courses-IBM-DA0321EN-SkillsNetwork-21426264&cm_mmca1=000026UJ&cm_mmca2=10006555&cm_mmca3=M12345678&cvosrc=email.Newsletter.M12345678&cvo_campaign=000026UJ).\n"
        }
    ],
    "metadata": {
        "kernelspec": {
            "name": "python3",
            "display_name": "Python 3.7",
            "language": "python"
        },
        "language_info": {
            "name": "python",
            "version": "3.7.9",
            "mimetype": "text/x-python",
            "codemirror_mode": {
                "name": "ipython",
                "version": 3
            },
            "pygments_lexer": "ipython3",
            "nbconvert_exporter": "python",
            "file_extension": ".py"
        }
    },
    "nbformat": 4,
    "nbformat_minor": 4
}