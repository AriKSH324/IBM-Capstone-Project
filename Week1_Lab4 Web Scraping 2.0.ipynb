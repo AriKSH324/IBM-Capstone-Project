{
    "cells": [
        {
            "metadata": {},
            "cell_type": "markdown",
            "source": "<center>\n    <img src=\"https://gitlab.com/ibm/skills-network/courses/placeholder101/-/raw/master/labs/module%201/images/IDSNlogo.png\" width=\"300\" alt=\"cognitiveclass.ai logo\"  />\n</center>\n"
        },
        {
            "metadata": {},
            "cell_type": "markdown",
            "source": "# **Hands-on Lab : Web Scraping**\n"
        },
        {
            "metadata": {},
            "cell_type": "markdown",
            "source": "Estimated time needed: **30 to 45** minutes\n"
        },
        {
            "metadata": {},
            "cell_type": "markdown",
            "source": "## Objectives\n"
        },
        {
            "metadata": {},
            "cell_type": "markdown",
            "source": "In this lab you will perform the following:\n"
        },
        {
            "metadata": {},
            "cell_type": "markdown",
            "source": "-   Extract information from a given web site \n-   Write the scraped data into a csv file.\n"
        },
        {
            "metadata": {},
            "cell_type": "markdown",
            "source": "## Extract information from the given web site\n\nYou will extract the data from the below web site: <br> \n"
        },
        {
            "metadata": {},
            "cell_type": "code",
            "source": "#this url contains the data you need to scrape\nurl = \"https://cf-courses-data.s3.us.cloud-object-storage.appdomain.cloud/IBM-DA0321EN-SkillsNetwork/labs/datasets/Programming_Languages.html\"\n",
            "execution_count": 4,
            "outputs": []
        },
        {
            "metadata": {},
            "cell_type": "markdown",
            "source": "The data you need to scrape is the **name of the programming language** and **average annual salary**.<br> It is a good idea to open the url in your web broswer and study the contents of the web page before you start to scrape.\n"
        },
        {
            "metadata": {},
            "cell_type": "markdown",
            "source": "Import the required libraries\n"
        },
        {
            "metadata": {},
            "cell_type": "code",
            "source": "# Your code here\nfrom bs4 import BeautifulSoup # this module helps in web scrapping.\nimport requests  # this module helps us to download a web page\nimport numpy as pd\nimport matplotlib.pyplot as plt\nimport seaborn as sns\n%matplotlib inline",
            "execution_count": 2,
            "outputs": []
        },
        {
            "metadata": {},
            "cell_type": "markdown",
            "source": "Download the webpage at the url\n"
        },
        {
            "metadata": {},
            "cell_type": "code",
            "source": "#your code goes here\ndata  = requests.get(url).text ",
            "execution_count": 5,
            "outputs": []
        },
        {
            "metadata": {},
            "cell_type": "markdown",
            "source": "Create a soup object\n"
        },
        {
            "metadata": {},
            "cell_type": "code",
            "source": "#your code goes here\nsoup = BeautifulSoup(data,\"html5lib\")\n",
            "execution_count": 9,
            "outputs": []
        },
        {
            "metadata": {},
            "cell_type": "markdown",
            "source": "Scrape the `Language name` and `annual average salary`.\n"
        },
        {
            "metadata": {},
            "cell_type": "code",
            "source": "#your code goes here\ntable = soup.find('table')\nfor row in table.find_all('tr'): # in html table row is represented by the tag <tr>\n    # Get all columns in each row.\n    cols = row.find_all('td') # in html a column is represented by the tag <td>\n    language = cols[1].getText() # store the value in column 3 as color_name\n    average_annual_salary = cols[3].getText() # store the value in column 4 as color_code\n    print(\"{}--->{}\".format(language,average_annual_salary))",
            "execution_count": 10,
            "outputs": [
                {
                    "output_type": "stream",
                    "text": "Language--->Average Annual Salary\nPython--->$114,383\nJava--->$101,013\nR--->$92,037\nJavascript--->$110,981\nSwift--->$130,801\nC++--->$113,865\nC#--->$88,726\nPHP--->$84,727\nSQL--->$84,793\nGo--->$94,082\n",
                    "name": "stdout"
                }
            ]
        },
        {
            "metadata": {},
            "cell_type": "markdown",
            "source": "Save the scrapped data into a file named _popular-languages.csv_\n"
        },
        {
            "metadata": {},
            "cell_type": "code",
            "source": "# your code goes here\nimport pandas as pd\ntable_rows = table.find_all('tr')\nl = []\nfor tr in table_rows:\n    td = tr.find_all('td')\n    row = [tr.text for tr in td]\n    l.append(row)\ndf=pd.DataFrame(l, columns=[\"Column1\",\"column2\",\"column3\",\"colum4\",\"column5\"])\ndf.to_csv(\"popular-languages.csv\")\npd.read_csv(\"popular-languages.csv\")\ndf.head()",
            "execution_count": 11,
            "outputs": [
                {
                    "output_type": "execute_result",
                    "execution_count": 11,
                    "data": {
                        "text/plain": "  Column1     column2                       column3                 colum4  \\\n0     No.    Language                    Created By  Average Annual Salary   \n1       1      Python              Guido van Rossum               $114,383   \n2       2        Java                 James Gosling               $101,013   \n3       3           R  Robert Gentleman, Ross Ihaka                $92,037   \n4       4  Javascript                      Netscape               $110,981   \n\n               column5  \n0  Learning Difficulty  \n1                 Easy  \n2                 Easy  \n3                 Hard  \n4                 Easy  ",
                        "text/html": "<div>\n<style scoped>\n    .dataframe tbody tr th:only-of-type {\n        vertical-align: middle;\n    }\n\n    .dataframe tbody tr th {\n        vertical-align: top;\n    }\n\n    .dataframe thead th {\n        text-align: right;\n    }\n</style>\n<table border=\"1\" class=\"dataframe\">\n  <thead>\n    <tr style=\"text-align: right;\">\n      <th></th>\n      <th>Column1</th>\n      <th>column2</th>\n      <th>column3</th>\n      <th>colum4</th>\n      <th>column5</th>\n    </tr>\n  </thead>\n  <tbody>\n    <tr>\n      <th>0</th>\n      <td>No.</td>\n      <td>Language</td>\n      <td>Created By</td>\n      <td>Average Annual Salary</td>\n      <td>Learning Difficulty</td>\n    </tr>\n    <tr>\n      <th>1</th>\n      <td>1</td>\n      <td>Python</td>\n      <td>Guido van Rossum</td>\n      <td>$114,383</td>\n      <td>Easy</td>\n    </tr>\n    <tr>\n      <th>2</th>\n      <td>2</td>\n      <td>Java</td>\n      <td>James Gosling</td>\n      <td>$101,013</td>\n      <td>Easy</td>\n    </tr>\n    <tr>\n      <th>3</th>\n      <td>3</td>\n      <td>R</td>\n      <td>Robert Gentleman, Ross Ihaka</td>\n      <td>$92,037</td>\n      <td>Hard</td>\n    </tr>\n    <tr>\n      <th>4</th>\n      <td>4</td>\n      <td>Javascript</td>\n      <td>Netscape</td>\n      <td>$110,981</td>\n      <td>Easy</td>\n    </tr>\n  </tbody>\n</table>\n</div>"
                    },
                    "metadata": {}
                }
            ]
        },
        {
            "metadata": {},
            "cell_type": "markdown",
            "source": "## Authors\n"
        },
        {
            "metadata": {},
            "cell_type": "markdown",
            "source": "Ramesh Sannareddy\n"
        },
        {
            "metadata": {},
            "cell_type": "markdown",
            "source": "### Other Contributors\n"
        },
        {
            "metadata": {},
            "cell_type": "markdown",
            "source": "Rav Ahuja\n"
        },
        {
            "metadata": {},
            "cell_type": "markdown",
            "source": "## Change Log\n"
        },
        {
            "metadata": {},
            "cell_type": "markdown",
            "source": "| Date (YYYY-MM-DD) | Version | Changed By        | Change Description                 |\n| ----------------- | ------- | ----------------- | ---------------------------------- |\n| 2020-10-17        | 0.1     | Ramesh Sannareddy | Created initial version of the lab |\n"
        },
        {
            "metadata": {},
            "cell_type": "markdown",
            "source": " Copyright \u00a9 2020 IBM Corporation. This notebook and its source code are released under the terms of the [MIT License](https://cognitiveclass.ai/mit-license?cm_mmc=Email_Newsletter-_-Developer_Ed%2BTech-_-WW_WW-_-SkillsNetwork-Courses-IBM-DA0321EN-SkillsNetwork-21426264&cm_mmca1=000026UJ&cm_mmca2=10006555&cm_mmca3=M12345678&cvosrc=email.Newsletter.M12345678&cvo_campaign=000026UJ&cm_mmc=Email_Newsletter-_-Developer_Ed%2BTech-_-WW_WW-_-SkillsNetwork-Courses-IBM-DA0321EN-SkillsNetwork-21426264&cm_mmca1=000026UJ&cm_mmca2=10006555&cm_mmca3=M12345678&cvosrc=email.Newsletter.M12345678&cvo_campaign=000026UJ&cm_mmc=Email_Newsletter-_-Developer_Ed%2BTech-_-WW_WW-_-SkillsNetwork-Courses-IBM-DA0321EN-SkillsNetwork-21426264&cm_mmca1=000026UJ&cm_mmca2=10006555&cm_mmca3=M12345678&cvosrc=email.Newsletter.M12345678&cvo_campaign=000026UJ&cm_mmc=Email_Newsletter-_-Developer_Ed%2BTech-_-WW_WW-_-SkillsNetwork-Courses-IBM-DA0321EN-SkillsNetwork-21426264&cm_mmca1=000026UJ&cm_mmca2=10006555&cm_mmca3=M12345678&cvosrc=email.Newsletter.M12345678&cvo_campaign=000026UJ).\n"
        }
    ],
    "metadata": {
        "kernelspec": {
            "name": "python3",
            "display_name": "Python 3.7",
            "language": "python"
        },
        "language_info": {
            "name": "python",
            "version": "3.7.9",
            "mimetype": "text/x-python",
            "codemirror_mode": {
                "name": "ipython",
                "version": 3
            },
            "pygments_lexer": "ipython3",
            "nbconvert_exporter": "python",
            "file_extension": ".py"
        }
    },
    "nbformat": 4,
    "nbformat_minor": 4
}